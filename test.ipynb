{
 "cells": [
  {
   "cell_type": "code",
   "execution_count": 1,
   "metadata": {},
   "outputs": [
    {
     "data": {
      "text/plain": [
       "69936"
      ]
     },
     "execution_count": 1,
     "metadata": {},
     "output_type": "execute_result"
    }
   ],
   "source": [
    "1457*48"
   ]
  },
  {
   "cell_type": "code",
   "execution_count": 3,
   "metadata": {},
   "outputs": [],
   "source": [
    "# 找到左闭右开区间进行处理和操作 进行模拟 左右上下\n",
    "def generateMatrix(n: int):\n",
    "    nums = [[0] * n for _ in range(n)]\n",
    "    startx, starty = 0, 0               \n",
    "    loop, mid = n // 2, n // 2          \n",
    "    count = 1                           \n",
    "\n",
    "    for offset in range(1,loop+1):\n",
    "        for i in range(starty,n-offset):\n",
    "            nums[startx][i]=count\n",
    "            count+=1\n",
    "        for i in range(startx,n-offset):\n",
    "            nums[i][n-offset]=count\n",
    "            count+=1\n",
    "        for i in range(n-offset,startx,-1):\n",
    "            nums[n-offset][i]=count\n",
    "            count+=1\n",
    "        for i in range(n-offset,starty,-1):\n",
    "            nums[i][startx]=count\n",
    "            count+=1\n",
    "        startx+=1\n",
    "        starty+=1\n",
    "    if n%2!=0:\n",
    "        nums[mid][mid]=count\n",
    "\n",
    "    return nums"
   ]
  },
  {
   "cell_type": "code",
   "execution_count": 5,
   "metadata": {},
   "outputs": [
    {
     "data": {
      "text/plain": [
       "[[1, 2, 3, 4, 5],\n",
       " [16, 17, 18, 19, 6],\n",
       " [15, 24, 25, 20, 7],\n",
       " [14, 23, 22, 21, 8],\n",
       " [13, 12, 11, 10, 9]]"
      ]
     },
     "execution_count": 5,
     "metadata": {},
     "output_type": "execute_result"
    }
   ],
   "source": [
    "generateMatrix(5)"
   ]
  },
  {
   "cell_type": "code",
   "execution_count": null,
   "metadata": {},
   "outputs": [],
   "source": []
  }
 ],
 "metadata": {
  "kernelspec": {
   "display_name": "Python 3.9.13 ('base')",
   "language": "python",
   "name": "python3"
  },
  "language_info": {
   "codemirror_mode": {
    "name": "ipython",
    "version": 3
   },
   "file_extension": ".py",
   "mimetype": "text/x-python",
   "name": "python",
   "nbconvert_exporter": "python",
   "pygments_lexer": "ipython3",
   "version": "3.9.13"
  },
  "orig_nbformat": 4,
  "vscode": {
   "interpreter": {
    "hash": "40d3a090f54c6569ab1632332b64b2c03c39dcf918b08424e98f38b5ae0af88f"
   }
  }
 },
 "nbformat": 4,
 "nbformat_minor": 2
}
